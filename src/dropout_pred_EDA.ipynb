{
 "cells": [
  {
   "cell_type": "markdown",
   "id": "5e843f9c-89b8-4459-8e1b-c3300844eae2",
   "metadata": {},
   "source": [
    "# Dropout Prediction EDA"
   ]
  },
  {
   "cell_type": "code",
   "execution_count": 1,
   "id": "088753a8-e87b-4b3c-9b1e-82201329f29c",
   "metadata": {},
   "outputs": [],
   "source": [
    "import pandas as pd\n",
    "import numpy as np\n",
    "from hashlib import sha1\n",
    "import matplotlib.pyplot as plt\n",
    "import seaborn as sns\n",
    "import altair as alt"
   ]
  },
  {
   "cell_type": "code",
   "execution_count": 2,
   "id": "e4f36781-b3f0-4d00-9264-e9a133f978c9",
   "metadata": {},
   "outputs": [
    {
     "ename": "NameError",
     "evalue": "name 'RendererRegistry' is not defined",
     "output_type": "error",
     "traceback": [
      "\u001b[1;31m---------------------------------------------------------------------------\u001b[0m",
      "\u001b[1;31mNameError\u001b[0m                                 Traceback (most recent call last)",
      "Cell \u001b[1;32mIn [2], line 2\u001b[0m\n\u001b[0;32m      1\u001b[0m alt\u001b[38;5;241m.\u001b[39mrenderers\u001b[38;5;241m.\u001b[39menable(\u001b[38;5;124m'\u001b[39m\u001b[38;5;124mmimetype\u001b[39m\u001b[38;5;124m'\u001b[39m)\n\u001b[1;32m----> 2\u001b[0m \u001b[43mRendererRegistry\u001b[49m\u001b[38;5;241m.\u001b[39menable(\u001b[38;5;124m'\u001b[39m\u001b[38;5;124mmimetype\u001b[39m\u001b[38;5;124m'\u001b[39m)\n\u001b[0;32m      3\u001b[0m data_path \u001b[38;5;241m=\u001b[39m \u001b[38;5;124m'\u001b[39m\u001b[38;5;124m../data/raw/data.csv\u001b[39m\u001b[38;5;124m'\u001b[39m\n\u001b[0;32m      4\u001b[0m sep \u001b[38;5;241m=\u001b[39m \u001b[38;5;124m'\u001b[39m\u001b[38;5;124m;\u001b[39m\u001b[38;5;124m'\u001b[39m\n",
      "\u001b[1;31mNameError\u001b[0m: name 'RendererRegistry' is not defined"
     ]
    }
   ],
   "source": [
    "alt.renderers.enable('mimetype')\n",
    "\n",
    "data_path = '../data/raw/data.csv'\n",
    "sep = ';'"
   ]
  },
  {
   "cell_type": "code",
   "execution_count": null,
   "id": "5ec58a90-d94a-4aa4-ba57-c224dda9514b",
   "metadata": {},
   "outputs": [],
   "source": [
    "df = pd.read_csv(data_path, sep=sep)\n",
    "df = df.rename(columns={'Nacionality': 'Nationality'})\n",
    "df.shape"
   ]
  },
  {
   "cell_type": "code",
   "execution_count": null,
   "id": "22b2fde4-f90b-4dea-94c2-fa80dc877421",
   "metadata": {},
   "outputs": [],
   "source": [
    "df.head()"
   ]
  },
  {
   "cell_type": "code",
   "execution_count": null,
   "id": "a5ea68a8-1f3e-4acb-b76a-2d742b07dd2d",
   "metadata": {},
   "outputs": [],
   "source": [
    "df.tail()"
   ]
  },
  {
   "cell_type": "code",
   "execution_count": null,
   "id": "8d0cf1ce-5d08-4550-85c6-2af614c67422",
   "metadata": {},
   "outputs": [],
   "source": [
    "df = df.dropna()\n",
    "df.shape"
   ]
  },
  {
   "cell_type": "markdown",
   "id": "cc59345a-28b4-4bb2-8f6c-4ef83aa483e1",
   "metadata": {},
   "source": [
    "The data-set consists of 4424 records with 35 attributes and contains no missing values. The distribution and statistics are above and below."
   ]
  },
  {
   "cell_type": "code",
   "execution_count": null,
   "id": "53d8675f-4366-45fb-82f9-1859208047fe",
   "metadata": {},
   "outputs": [],
   "source": [
    "df.info()"
   ]
  },
  {
   "cell_type": "code",
   "execution_count": null,
   "id": "91e133cd-6721-432d-81d0-bcaa46a219f8",
   "metadata": {},
   "outputs": [],
   "source": [
    "\n",
    "sns.set(font_scale=1.4)\n",
    "ax = df['Target'].value_counts().plot(kind='bar', figsize=(7, 6), rot=0)\n",
    "ax.bar_label(ax.containers[0])\n",
    "plt.xlabel(\"Target\", labelpad=14)\n",
    "plt.ylabel(\"Count of Student\", labelpad=14)\n",
    "plt.title(\"Count of Student by Target\", y=1.02);"
   ]
  },
  {
   "cell_type": "markdown",
   "id": "89ed1f6f-f0d5-4013-ac03-47569f2b569f",
   "metadata": {},
   "source": [
    "From above plot, we can see this problem was three-category classification task, and there exists strong imbalance between those three classes. The class, Graduate, has the majority count which is around 50% of the records and Dropout has 32% of total records. The Enrolled only has 18% of total records. Thus, during our training, we need to find a way to fix this imbalance issues."
   ]
  },
  {
   "cell_type": "markdown",
   "id": "c67565c4-96e7-4227-b1f7-4c1659cec2d9",
   "metadata": {},
   "source": [
    "## Dropping Enrolled Student"
   ]
  },
  {
   "cell_type": "code",
   "execution_count": null,
   "id": "42e6f6ff-d8a8-428b-950b-08eac496e6ad",
   "metadata": {},
   "outputs": [],
   "source": [
    "df = df.drop(df[df.Target == 'Enrolled'].index)\n",
    "df.shape"
   ]
  },
  {
   "cell_type": "code",
   "execution_count": null,
   "id": "3f5d4e97-f9f2-4c5d-ad43-759e3a6cea51",
   "metadata": {},
   "outputs": [],
   "source": [
    "df.columns"
   ]
  },
  {
   "cell_type": "code",
   "execution_count": null,
   "id": "b9cd6520-63f5-4d11-b6cd-00bde7386f87",
   "metadata": {},
   "outputs": [],
   "source": [
    "\n",
    "numeric_cols = ['Marital status', 'Nationality','Displaced','Gender',\n",
    "                'Age at enrollment', 'International',\n",
    "                \"Mother's qualification\", \"Father's qualification\",\n",
    "       \"Mother's occupation\", \"Father's occupation\",\n",
    "                \n",
    "       'Educational special needs', 'Debtor',\n",
    "       'Tuition fees up to date',  'Scholarship holder',\n",
    "        'Unemployment rate','Inflation rate', 'GDP',\n",
    "                \n",
    "        'Application mode', 'Application order', 'Course',\n",
    "                \n",
    "       'Daytime/evening attendance\\t', 'Previous qualification',\n",
    "       #'Previous qualification (grade)', \n",
    "       # 'Admission grade',\n",
    "        \n",
    "       'Curricular units 1st sem (credited)',\n",
    "       'Curricular units 1st sem (enrolled)',\n",
    "       'Curricular units 1st sem (evaluations)',\n",
    "       'Curricular units 1st sem (approved)',\n",
    "       'Curricular units 1st sem (grade)',\n",
    "       'Curricular units 1st sem (without evaluations)',\n",
    "       'Curricular units 2nd sem (credited)',\n",
    "       'Curricular units 2nd sem (enrolled)',\n",
    "       'Curricular units 2nd sem (evaluations)',\n",
    "       'Curricular units 2nd sem (approved)',\n",
    "       'Curricular units 2nd sem (grade)',\n",
    "       'Curricular units 2nd sem (without evaluations)', ]\n",
    "df[numeric_cols].corr('spearman').style.background_gradient()"
   ]
  },
  {
   "cell_type": "code",
   "execution_count": null,
   "id": "020e703f-90ff-41a6-a292-fbe3d0dfb745",
   "metadata": {},
   "outputs": [],
   "source": [
    "macroeconomic_col = ['Unemployment rate','Inflation rate', 'GDP']\n",
    "\n",
    "for i in range(0, len(macroeconomic_col)):\n",
    "\n",
    "    sns.catplot(x='Target', y=macroeconomic_col[i], data=df, kind=\"box\", aspect=1.5)\n",
    "    plt.title(\"Box Plot of \" + macroeconomic_col[i])\n",
    "    \n"
   ]
  },
  {
   "cell_type": "code",
   "execution_count": null,
   "id": "04fa103e-2fa9-49d0-89d5-e66448249ecb",
   "metadata": {},
   "outputs": [],
   "source": [
    "sns.scatterplot(x='Unemployment rate', y='Inflation rate', hue=\"Target\", data=df)\n",
    "plt.title(\"Relationship between Unemployment Rate, Inflation Rate and target\")\n",
    "plt.show()"
   ]
  },
  {
   "cell_type": "code",
   "execution_count": null,
   "id": "78644709-085b-4348-af86-75c2b73b0bef",
   "metadata": {},
   "outputs": [],
   "source": [
    "numeric_cols = ['Age at enrollment',\n",
    "                'Unemployment rate','Inflation rate', 'GDP',\n",
    "        'Application mode', 'Application order' \n",
    "        ]\n",
    "\n",
    "fig, axs = plt.subplots(2,3, figsize=(15, 15), facecolor='w', edgecolor='k')\n",
    "fig.subplots_adjust(hspace = .5, wspace=.5)\n",
    "\n",
    "axs = axs.ravel()\n",
    "\n",
    "for i in range(0, len(numeric_cols)):\n",
    "\n",
    "    axs[i].hist(df[numeric_cols[i]], bins=20)\n",
    "    axs[i].set_title(\"Histogram of \" + numeric_cols[i])"
   ]
  },
  {
   "cell_type": "code",
   "execution_count": null,
   "id": "d3b0127c-a5ac-4cff-8727-0494209d3fa0",
   "metadata": {},
   "outputs": [],
   "source": [
    "sns.pairplot(df[['Age at enrollment',\n",
    "                'Unemployment rate','Inflation rate', 'GDP',\n",
    "        'Application mode', 'Application order' , 'Target']],\n",
    "            hue='Target')"
   ]
  },
  {
   "cell_type": "code",
   "execution_count": null,
   "id": "b50df1e0-ff1f-43cf-82fa-b361777509db",
   "metadata": {},
   "outputs": [],
   "source": [
    "numeric_cols = df.select_dtypes('number').columns.tolist()\n",
    "numeric_cols\n",
    "\n",
    "# performance of two semester vs Target\n",
    "\n",
    "\n",
    "df_new = df[['Curricular units 1st sem (credited)', 'Curricular units 1st sem (enrolled)', 'Curricular units 1st sem (evaluations)', 'Curricular units 1st sem (approved)', 'Curricular units 1st sem (grade)', 'Curricular units 1st sem (without evaluations)', 'Curricular units 2nd sem (credited)', 'Curricular units 2nd sem (enrolled)', 'Curricular units 2nd sem (evaluations)', 'Curricular units 2nd sem (approved)', 'Curricular units 2nd sem (grade)', 'Curricular units 2nd sem (without evaluations)', 'Target']]\n",
    "\n",
    "first_sem = ['Curricular units 1st sem (credited)', 'Curricular units 1st sem (enrolled)', 'Curricular units 1st sem (evaluations)', 'Curricular units 1st sem (approved)', 'Curricular units 1st sem (grade)', 'Curricular units 1st sem (without evaluations)']\n",
    "\n",
    "second_sem = ['Curricular units 2nd sem (credited)', 'Curricular units 2nd sem (enrolled)', 'Curricular units 2nd sem (evaluations)', 'Curricular units 2nd sem (approved)', 'Curricular units 2nd sem (grade)', 'Curricular units 2nd sem (without evaluations)']\n",
    "\n",
    "plot = alt.Chart(df_new).mark_point().encode(\n",
    "     alt.X(alt.repeat('column'), type='quantitative'),\n",
    "     alt.Y(alt.repeat('row'), type='quantitative'),\n",
    "     color = 'Target'\n",
    ").properties(\n",
    "    width=200,\n",
    "    height=200\n",
    ").repeat(\n",
    "    row = first_sem,\n",
    "    column = second_sem\n",
    ")\n",
    "\n",
    "plot"
   ]
  }
 ],
 "metadata": {
  "kernelspec": {
   "display_name": "Python [conda env:573]",
   "language": "python",
   "name": "conda-env-573-py"
  },
  "language_info": {
   "codemirror_mode": {
    "name": "ipython",
    "version": 3
   },
   "file_extension": ".py",
   "mimetype": "text/x-python",
   "name": "python",
   "nbconvert_exporter": "python",
   "pygments_lexer": "ipython3",
   "version": "3.10.6"
  }
 },
 "nbformat": 4,
 "nbformat_minor": 5
}
