{
 "cells": [
  {
   "cell_type": "markdown",
   "id": "62541e85-8dd8-4936-934f-f9c88ca11eb8",
   "metadata": {},
   "source": [
    "# Student Dropout Predictor Report"
   ]
  },
  {
   "cell_type": "markdown",
   "id": "e47603b2-85e1-4d40-966c-6af9b4ffc9c4",
   "metadata": {},
   "source": [
    "Core Team Member:\n",
    "- Andy Wang\n",
    "- Caesar Wong\n",
    "- Ranjit Sundaramurthi\n",
    "- Ziyi Chen"
   ]
  },
  {
   "cell_type": "markdown",
   "id": "ab449f04-fe61-459f-a26d-6eddebd354d2",
   "metadata": {},
   "source": [
    "# Introduction"
   ]
  },
  {
   "cell_type": "code",
   "execution_count": null,
   "id": "d2b0b361-41dd-48b7-ad87-f37b556d6504",
   "metadata": {},
   "outputs": [],
   "source": []
  },
  {
   "cell_type": "markdown",
   "id": "c1aeb57c-74a3-46c2-b436-f7f06f0164c6",
   "metadata": {},
   "source": [
    "# Preprocessing"
   ]
  },
  {
   "cell_type": "code",
   "execution_count": null,
   "id": "3368ab63-e184-4178-8dfc-ab4e4f2ccbaf",
   "metadata": {},
   "outputs": [],
   "source": []
  },
  {
   "cell_type": "markdown",
   "id": "00e82b15-00c9-42a3-8c3e-6924b330572a",
   "metadata": {},
   "source": [
    "# Exploratory Data Analysis"
   ]
  },
  {
   "cell_type": "code",
   "execution_count": null,
   "id": "5ff3e8f7-9d40-4418-9ab0-ae6e8aa73da7",
   "metadata": {},
   "outputs": [],
   "source": []
  },
  {
   "cell_type": "markdown",
   "id": "8168f70a-9bef-400c-962f-10d721b2dbbf",
   "metadata": {},
   "source": [
    "# Modeling & Evaluation"
   ]
  },
  {
   "cell_type": "code",
   "execution_count": null,
   "id": "cedadf31-7673-4d73-8d8c-8aab0c3f1185",
   "metadata": {},
   "outputs": [],
   "source": []
  },
  {
   "cell_type": "markdown",
   "id": "6a11639e-32b4-4dc0-808f-9148c9d5b1c6",
   "metadata": {},
   "source": [
    "# References"
   ]
  },
  {
   "cell_type": "code",
   "execution_count": null,
   "id": "d9cebfde-a8dd-4485-ab24-70c56627827d",
   "metadata": {},
   "outputs": [],
   "source": []
  }
 ],
 "metadata": {
  "kernelspec": {
   "display_name": "Python 3 (ipykernel)",
   "language": "python",
   "name": "python3"
  },
  "language_info": {
   "codemirror_mode": {
    "name": "ipython",
    "version": 3
   },
   "file_extension": ".py",
   "mimetype": "text/x-python",
   "name": "python",
   "nbconvert_exporter": "python",
   "pygments_lexer": "ipython3",
   "version": "3.10.4"
  }
 },
 "nbformat": 4,
 "nbformat_minor": 5
}
